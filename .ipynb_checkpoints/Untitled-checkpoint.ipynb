{
 "cells": [
  {
   "cell_type": "code",
   "execution_count": null,
   "metadata": {},
   "outputs": [],
   "source": [
    "import pandas as pd\n",
    "from sqlalchemy import create_engine"
   ]
  },
  {
   "cell_type": "code",
   "execution_count": null,
   "metadata": {
    "scrolled": false
   },
   "outputs": [],
   "source": [
    "gold = \"csv_files/Gold.csv\"\n",
    "sb= \"csv_files/Super_Bowl.csv\"\n",
    "oscar = \"csv_files/oscar.csv\"\n",
    "\n",
    "#gold\n",
    "gold_df = pd.read_csv(gold)\n",
    "#print(gold_df.dtypes)\n",
    "gold_df['Y1'] = gold_df['Date'].str[:4]\n",
    "gold_df['Year'] = gold_df['Y1'].str[-2:]\n",
    "gold_df['Year'] = gold_df.Year.astype(int)\n",
    "gold_df = gold_df.drop(['Date', 'Y1'], axis=1)\n",
    "gold_df = gold_df.iloc[17:]\n",
    "#data base is missing 2019&2020\n",
    "\n",
    "#Oscar\n",
    "oscar_df = pd.read_csv(oscar)\n",
    "#print(oscar_df.dtypes)\n",
    "oscar_df = oscar_df.iloc[4296:]\n",
    "oscar_df = oscar_df[oscar_df['category'].isin(['ACTOR', 'ACTRESS', 'BEST PICTURE'])]\n",
    "oscar_df['year_ceremony'] = oscar_df['year_ceremony'].astype(str)\n",
    "oscar_df['Year'] = oscar_df['year_ceremony'].str[-2:]\n",
    "oscar_df['Year'] = oscar_df.Year.astype(int)\n",
    "oscar_df=oscar_df.drop(['year_ceremony', 'ceremony', 'year_film'], axis=1)\n",
    "#data base is missing 2019&2020\n",
    "\n",
    "#sb\n",
    "sb_df = pd.read_csv(sb)\n",
    "#print(sb_df.dtypes)\n",
    "sb_df['Year'] = sb_df['Date'].str[-2:]\n",
    "sb_df['Year'] = sb_df.Year.astype(int)\n",
    "sb_df=sb_df.drop(['Date', 'Referee', 'Umpire', 'Head Linesman', 'Line Judge', 'Field Judge', 'Back Judge', 'Side Judge'], axis=1)\n",
    "#data base is missing 2019&2020\n"
   ]
  },
  {
   "cell_type": "code",
   "execution_count": null,
   "metadata": {},
   "outputs": [],
   "source": [
    "rds_connection_string = \"<insert user name>:<insert password>@localhost:5432/customer_db\"\n",
    "engine = create_engine(f'postgresql://{rds_connection_string}') "
   ]
  },
  {
   "cell_type": "code",
   "execution_count": null,
   "metadata": {},
   "outputs": [],
   "source": []
  }
 ],
 "metadata": {
  "kernelspec": {
   "display_name": "Python [conda env:PythonData] *",
   "language": "python",
   "name": "conda-env-PythonData-py"
  },
  "language_info": {
   "codemirror_mode": {
    "name": "ipython",
    "version": 3
   },
   "file_extension": ".py",
   "mimetype": "text/x-python",
   "name": "python",
   "nbconvert_exporter": "python",
   "pygments_lexer": "ipython3",
   "version": "3.7.5"
  }
 },
 "nbformat": 4,
 "nbformat_minor": 2
}
